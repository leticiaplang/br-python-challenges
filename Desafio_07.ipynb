{
  "cells": [
    {
      "cell_type": "markdown",
      "metadata": {
        "id": "view-in-github",
        "colab_type": "text"
      },
      "source": [
        "<a href=\"https://colab.research.google.com/github/leticiaplang/br-python-challenges/blob/master/Desafio_07.ipynb\" target=\"_parent\"><img src=\"https://colab.research.google.com/assets/colab-badge.svg\" alt=\"Open In Colab\"/></a>"
      ]
    },
    {
      "cell_type": "markdown",
      "metadata": {
        "id": "gQbaWOWcW1g_"
      },
      "source": [
        "# Desafio 7\n",
        "Um professor de universidade tem uma turma com os seguintes números de telefones:"
      ]
    },
    {
      "cell_type": "code",
      "execution_count": 1,
      "metadata": {
        "id": "T68FjcUmWear"
      },
      "outputs": [],
      "source": [
        "telefones_alunos = ['(873) 810-8267', '(633) 244-7325', '(300) 303-5462', \n",
        "                    '(938) 300-8890', '(429) 264-7427', '(737) 805-2326', \n",
        "                    '(768) 956-8497', '(941) 225-3869', '(203) 606-9463', \n",
        "                    '(294) 430-7720', '(896) 781-5087', '(397) 845-8267', \n",
        "                    '(788) 717-6858', '(419) 734-4188', '(682) 595-3278', \n",
        "                    '(835) 955-1498', '(296) 415-9944', '(897) 932-2512', \n",
        "                    '(263) 415-3893', '(822) 640-8496', '(640) 427-2597', \n",
        "                    '(856) 338-7094', '(807) 554-4076', '(641) 367-5279', \n",
        "                    '(828) 866-0696', '(727) 376-5749', '(921) 948-2244', \n",
        "                    '(964) 710-9625', '(596) 685-1242', '(403) 343-7705', \n",
        "                    '(227) 389-3685', '(264) 372-7298', '(797) 649-3653', \n",
        "                    '(374) 361-3844', '(618) 490-4228', '(987) 803-5550', \n",
        "                    '(228) 976-9699', '(757) 450-9985', '(491) 666-5367',\n",
        "                    ]"
      ]
    },
    {
      "cell_type": "markdown",
      "metadata": {
        "id": "ryYrStScXgZ3"
      },
      "source": [
        "Ele criou um grupo do WhatsApp. No entanto, somente os seguintes números entraram no grupo."
      ]
    },
    {
      "cell_type": "code",
      "execution_count": 2,
      "metadata": {
        "id": "0Hxk13ciXZ3h"
      },
      "outputs": [],
      "source": [
        "entraram_no_grupo = ['(596) 685-1242', '(727) 376-5749', '(987) 803-5550', \n",
        "                     '(633) 244-7325', '(828) 866-0696', '(263) 415-3893', \n",
        "                     '(203) 606-9463', '(296) 415-9944', '(419) 734-4188', \n",
        "                     '(618) 490-4228', '(682) 595-3278', '(938) 300-8890', \n",
        "                     '(264) 372-7298', '(768) 956-8497', '(737) 805-2326', \n",
        "                     '(788) 717-6858', '(228) 976-9699', '(896) 781-5087',\n",
        "                     '(374) 361-3844', '(921) 948-2244', '(807) 554-4076', \n",
        "                     '(822) 640-8496', '(227) 389-3685', '(429) 264-7427', \n",
        "                     '(397) 845-8267']"
      ]
    },
    {
      "cell_type": "markdown",
      "metadata": {
        "id": "-inLXlaxoWnC"
      },
      "source": [
        "Você seria capaz de criar uma lista dos alunos que ainda não entraram no grupo para que sejam contatados individualmente?"
      ]
    },
    {
      "cell_type": "code",
      "execution_count": null,
      "metadata": {
        "id": "_OSrDQ1noh62"
      },
      "outputs": [],
      "source": [
        "#Seu código."
      ]
    },
    {
      "cell_type": "code",
      "source": [
        "def contatar_sem_ordem(l1, l2):\n",
        "  _ = set(l1) ^ set(l2)\n",
        "  if len(_) > 0:\n",
        "    for n in _:\n",
        "      print(n)\n",
        "  else:\n",
        "    print('Não há telefones para contatar no momento.')\n"
      ],
      "metadata": {
        "id": "kHXk1qhaLlFL"
      },
      "execution_count": 38,
      "outputs": []
    },
    {
      "cell_type": "code",
      "source": [
        "contatar_sem_ordem(telefones_alunos, entraram_no_grupo)"
      ],
      "metadata": {
        "id": "aWe9o_jgMQXf",
        "outputId": "9774d4c0-8fa8-428a-fa73-bf514b230613",
        "colab": {
          "base_uri": "https://localhost:8080/"
        }
      },
      "execution_count": 39,
      "outputs": [
        {
          "output_type": "stream",
          "name": "stdout",
          "text": [
            "(640) 427-2597\n",
            "(491) 666-5367\n",
            "(873) 810-8267\n",
            "(897) 932-2512\n",
            "(300) 303-5462\n",
            "(964) 710-9625\n",
            "(403) 343-7705\n",
            "(757) 450-9985\n",
            "(641) 367-5279\n",
            "(856) 338-7094\n",
            "(941) 225-3869\n",
            "(294) 430-7720\n",
            "(835) 955-1498\n",
            "(797) 649-3653\n"
          ]
        }
      ]
    },
    {
      "cell_type": "code",
      "source": [
        "contatar_sem_ordem(entraram_no_grupo, telefones_alunos)"
      ],
      "metadata": {
        "id": "w_VXd42xMTfK",
        "outputId": "132ec03e-6472-4a4c-8ba0-4a78f628f156",
        "colab": {
          "base_uri": "https://localhost:8080/"
        }
      },
      "execution_count": 40,
      "outputs": [
        {
          "output_type": "stream",
          "name": "stdout",
          "text": [
            "(640) 427-2597\n",
            "(491) 666-5367\n",
            "(897) 932-2512\n",
            "(856) 338-7094\n",
            "(294) 430-7720\n",
            "(797) 649-3653\n",
            "(873) 810-8267\n",
            "(300) 303-5462\n",
            "(964) 710-9625\n",
            "(403) 343-7705\n",
            "(757) 450-9985\n",
            "(641) 367-5279\n",
            "(941) 225-3869\n",
            "(835) 955-1498\n"
          ]
        }
      ]
    },
    {
      "cell_type": "code",
      "source": [
        "def contatar_com_ordem(lista_maior, lista_menor):\n",
        "  _ = set(lista_maior) - set(lista_menor)\n",
        "  if len(_) > 0:\n",
        "    for n in _:\n",
        "      print(n)\n",
        "  else:\n",
        "    print('Não há telefones para contatar no momento.')"
      ],
      "metadata": {
        "id": "xrMGSc7aHMfG"
      },
      "execution_count": 24,
      "outputs": []
    },
    {
      "cell_type": "code",
      "source": [
        "contatar_com_ordem(telefones_alunos, entraram_no_grupo)"
      ],
      "metadata": {
        "id": "wt71X0X0IUN0",
        "outputId": "d77b9be6-5dcc-4795-b5b0-d0f42a0a98d7",
        "colab": {
          "base_uri": "https://localhost:8080/"
        }
      },
      "execution_count": 25,
      "outputs": [
        {
          "output_type": "stream",
          "name": "stdout",
          "text": [
            "(640) 427-2597\n",
            "(757) 450-9985\n",
            "(641) 367-5279\n",
            "(856) 338-7094\n",
            "(491) 666-5367\n",
            "(941) 225-3869\n",
            "(294) 430-7720\n",
            "(873) 810-8267\n",
            "(835) 955-1498\n",
            "(897) 932-2512\n",
            "(300) 303-5462\n",
            "(964) 710-9625\n",
            "(797) 649-3653\n",
            "(403) 343-7705\n"
          ]
        }
      ]
    },
    {
      "cell_type": "code",
      "source": [
        "contatar_com_ordem(entraram_no_grupo, telefones_alunos)"
      ],
      "metadata": {
        "id": "AZk8IGNPNKaB",
        "outputId": "6921d9a2-0e6e-4922-fe69-5cd5c09fedc0",
        "colab": {
          "base_uri": "https://localhost:8080/"
        }
      },
      "execution_count": 41,
      "outputs": [
        {
          "output_type": "stream",
          "name": "stdout",
          "text": [
            "Não há telefones para contatar no momento.\n"
          ]
        }
      ]
    }
  ],
  "metadata": {
    "colab": {
      "name": "Desafio 7.ipynb",
      "provenance": [],
      "include_colab_link": true
    },
    "kernelspec": {
      "display_name": "Python 3",
      "language": "python",
      "name": "python3"
    },
    "language_info": {
      "codemirror_mode": {
        "name": "ipython",
        "version": 3
      },
      "file_extension": ".py",
      "mimetype": "text/x-python",
      "name": "python",
      "nbconvert_exporter": "python",
      "pygments_lexer": "ipython3",
      "version": "3.7.9"
    }
  },
  "nbformat": 4,
  "nbformat_minor": 0
}