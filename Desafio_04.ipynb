{
  "nbformat": 4,
  "nbformat_minor": 0,
  "metadata": {
    "anaconda-cloud": {},
    "colab": {
      "name": "Desafio 4.ipynb",
      "provenance": [],
      "include_colab_link": true
    },
    "kernelspec": {
      "display_name": "Python 3",
      "language": "python",
      "name": "python3"
    },
    "language_info": {
      "codemirror_mode": {
        "name": "ipython",
        "version": 3
      },
      "file_extension": ".py",
      "mimetype": "text/x-python",
      "name": "python",
      "nbconvert_exporter": "python",
      "pygments_lexer": "ipython3",
      "version": "3.7.9"
    }
  },
  "cells": [
    {
      "cell_type": "markdown",
      "metadata": {
        "id": "view-in-github",
        "colab_type": "text"
      },
      "source": [
        "<a href=\"https://colab.research.google.com/github/leticiaplang/br-python-challenges/blob/master/Desafio_04.ipynb\" target=\"_parent\"><img src=\"https://colab.research.google.com/assets/colab-badge.svg\" alt=\"Open In Colab\"/></a>"
      ]
    },
    {
      "cell_type": "markdown",
      "metadata": {
        "id": "dOqcKUYZf6JW"
      },
      "source": [
        "### Desafio 04\n",
        "\n",
        "Escreva uma função cuja entrada é uma string e a saída é outra string com as palavras em ordem inversa.\n",
        "\n",
        "Exemplo:\n",
        "\n",
        "inverte_texto(\"Python é legal\") ➞ \"legal é Python\""
      ]
    },
    {
      "cell_type": "code",
      "metadata": {
        "id": "I5TInJDaf6JW"
      },
      "source": [
        "# Seu código\n",
        "\n",
        "import re\n",
        "\n",
        "def inv_word(string):\n",
        "  '''A função receberá uma string e terá como resultado \n",
        "  um print de outra string com as mesmas palavras que a \n",
        "  original, mas na ordem inversa e com único caractere \n",
        "  especial (ponto) ao final da string'''\n",
        "  x = re.sub(r'\\W', ' ', string)\n",
        "  x = x.split(' ')\n",
        "  x = ' '.join(x[::-1])\n",
        "  x = x.strip().lower().capitalize()\n",
        "  print(f'{x}.') \n",
        "\n",
        "\n",
        "frase = str(input('Escreva uma frase: '))\n",
        "inv_word(frase)"
      ],
      "execution_count": null,
      "outputs": []
    },
    {
      "cell_type": "markdown",
      "metadata": {
        "id": "EjfIlDCFVzQZ"
      },
      "source": [
        "***\n",
        "### Poderia ter utilizado sem tratamento algum:\n",
        "\n",
        "\n",
        "def inv_word(string):\n",
        "\n",
        "___ x = string.split(' ')\n",
        "\n",
        "___ x = ' '.join(x[::-1])\n",
        "\n",
        "___ print(x)\n",
        "\n",
        "\n",
        "frase = str(input('Escreva uma frase: '))\n",
        "\n",
        "inv_word(frase)\n",
        "\n",
        "***"
      ]
    },
    {
      "cell_type": "markdown",
      "metadata": {
        "id": "uO2CWi5GV18L"
      },
      "source": [
        "### Esquema lógico para chegar ao objetivo:\n",
        "1) Inserir a estrutura da função\n",
        "\n",
        "2) Transformar string em lista\n",
        "\n",
        "3) Transformar a lista em string novamente\n",
        "\n",
        "4) Tratar possíveis entradas para retornar conteúdo mais limpo\n",
        "\n",
        "5) Definir padrão de saída da função\n",
        "\n",
        "6) Definir parâmetro de entrada pelo cliente e chamar a função\n",
        "\n",
        "7) Testar resultados para ver se alcançou o resultado desejado\n",
        "\n",
        "8) Definir a função por meio do docstring. \n",
        "\n",
        "obs: Os itens 6 e 7 podem ser utilizados para validar a construção da função e a corrigir por meio da tentativa e erro. Nesse exercício utilizei-os junto com o item 4."
      ]
    },
    {
      "cell_type": "markdown",
      "metadata": {
        "id": "ds_M7yLAV2NY"
      },
      "source": [
        "### Solucionando a questão:\n",
        "1) Toda função inicia com def + nome_função\n",
        "> Nessa função inseri um parâmetro de entrada nomeado 'string', mesmo que a palavra não desempenhe papel de uma função ou determine o tipo de dado.\n",
        "> Após é obrigatório o uso de dois pontos (:) para indentarmos o que irá constrituir a função em si e o retorno esperado quando ela for chamada."
      ]
    },
    {
      "cell_type": "code",
      "metadata": {
        "id": "FI3lV3G2VzXL"
      },
      "source": [
        "def inv_word(string):"
      ],
      "execution_count": null,
      "outputs": []
    },
    {
      "cell_type": "markdown",
      "metadata": {
        "id": "DE9825GHVzfH"
      },
      "source": [
        "2) Para transformarmos uma string em lista, vamos precisar da fórmula split. Para ela retornarar uma lista de string, inseri o parâmtro de espaço para que saiba onde irá finalizar uma string e iniciará outra."
      ]
    },
    {
      "cell_type": "code",
      "metadata": {
        "id": "FLzJtDqlVzmP"
      },
      "source": [
        "def inv_word(string):\n",
        "  x = x.split(' ')\n",
        "  "
      ],
      "execution_count": null,
      "outputs": []
    },
    {
      "cell_type": "markdown",
      "metadata": {
        "id": "tH4h4emYVztz"
      },
      "source": [
        "3) Como o parâmetro de saída definido pelo desafio é um string com os valores invertidos, utilizarei a função join().\n",
        "\n",
        "> Para utilizar esta função precisamos definir com o que gostaríamos de separar cada item da lista, no caso decidi pelo espaço conforme o parâmetro dados de exemplo no desafio >> x = ' '.join()\n",
        "\n",
        "> Depois disso, precisamos determinar qual é a lista que estaremos utilizando, no caso a variável x, que será uma lista após rodar o item 2 >> x = ' '.join(x) \n",
        "\n",
        "> Como queremos os itens invertidos, utilizei a manipulação por índices [: : -1] que irá realizar a leitura do último item da lista até o primeiro. Repare que não há necessidade de definir o tamanho da lista, servindo para toda e qualquer inserção realizada pelo cliente.\n"
      ]
    },
    {
      "cell_type": "code",
      "metadata": {
        "id": "qvHlDglHVz1M"
      },
      "source": [
        "def inv_word(string):\n",
        "  x = x.split(' ')\n",
        "  x = ' '.join(x[::-1])\n"
      ],
      "execution_count": null,
      "outputs": []
    },
    {
      "cell_type": "markdown",
      "metadata": {
        "id": "OVFMyDtgVz8S"
      },
      "source": [
        "4) Por se tratar de string, não há restrições de conversão, ou seja, tudo o que for escrito será inserido dentro de \"\" para depois trabalharmos.\n",
        "\n",
        "Caso seja utilizado algum caractere especial ou letra maiúscula na frase, eles aparecerão no início ou no meio da frase, uma vez que a ordem será invertida.\n",
        "\n",
        "Buscando garantir uma padronização do parmêtro de saída realizei tratamento para: \n",
        "> 4.1 Caracteres especiais por meio do regex. Por necessitar de uma biblioteca realizei o import e utilizei na primeira linha, pois só poder ser utilizado com string, não com lista de string.\n",
        "\n",
        "> A biblioteca regex(re) possui um atributo de substituição de caracteres(.sub). A composição dentro dessa função foi:\n",
        ">> O que procuro: \\W que são todos os caracteres não alfabéticos nem numéricos; \n",
        "\n",
        ">> Pelo que o que procuro será substituído: por um espaço; \n",
        "\n",
        ">> Qual o local onde se escontram os strings(parâmetro de entrada) a serem avaliados(comparação com \\W) para troca (\\W por espaço)."
      ]
    },
    {
      "cell_type": "code",
      "metadata": {
        "id": "xkoQFFklV0Cc"
      },
      "source": [
        "import re\n",
        "\n",
        "def inv_word(string):\n",
        "  x = re.sub(r'\\W', ' ', string)\n",
        "  x = x.split(' ')\n",
        "  x = ' '.join(x[::-1])"
      ],
      "execution_count": null,
      "outputs": []
    },
    {
      "cell_type": "markdown",
      "metadata": {
        "id": "PIqFXV0bV0Ji"
      },
      "source": [
        "> 4.2 Caracteres alfabéticos minúsculos e maiúsculos por meio do do atributo capitalize() e de espaços extras deviso a substituição de caracteres esepeciais com o atributo strip().\n",
        "\n",
        "> Por ambos serem atributos de x, que é uma string, conseguimos encadeá-los, ou seja, inseir um após o outro."
      ]
    },
    {
      "cell_type": "code",
      "metadata": {
        "id": "zMJNngewV0Pc"
      },
      "source": [
        "import re\n",
        "\n",
        "def inv_word(string):\n",
        "  x = re.sub(r'\\W', ' ', string)\n",
        "  x = x.split(' ')\n",
        "  x = ' '.join(x[::-1])\n",
        "  x = x.strip().capitalize()\n"
      ],
      "execution_count": null,
      "outputs": []
    },
    {
      "cell_type": "markdown",
      "metadata": {
        "id": "XJczwzQfWar3"
      },
      "source": [
        "5) Indo um pouco mais além do que seria o parâmetro de saída do desafio, defini que a função gerari um print da frase tratada seguida de ponto final."
      ]
    },
    {
      "cell_type": "code",
      "metadata": {
        "id": "Ca4LszxJWa0-"
      },
      "source": [
        "import re\n",
        "\n",
        "def inv_word(string):\n",
        "  x = re.sub(r'\\W', ' ', string)\n",
        "  x = x.split(' ')\n",
        "  x = ' '.join(x[::-1])\n",
        "  x = x.strip().lower().capitalize()\n",
        "  print(f'{x}.') \n",
        "\n"
      ],
      "execution_count": null,
      "outputs": []
    },
    {
      "cell_type": "markdown",
      "metadata": {
        "id": "59VogszdWbCq"
      },
      "source": [
        "6) Por fim, defino um espaço para entrada de frase que será tratada por meio do input() e defino que ela será transformada em string por meio da função str().\n",
        "\n",
        "7) Chamo a função para que possa realizar testes e buscar possíveis melhorias."
      ]
    },
    {
      "cell_type": "code",
      "metadata": {
        "id": "YlgkYShtWhmV"
      },
      "source": [
        "import re\n",
        "\n",
        "def inv_word(string):\n",
        "  x = re.sub(r'\\W', ' ', string)\n",
        "  x = x.split(' ')\n",
        "  x = ' '.join(x[::-1])\n",
        "  x = x.strip().lower().capitalize()\n",
        "  print(f'{x}.') \n",
        "\n",
        "\n",
        "frase = str(input('Escreva uma frase: '))\n",
        "inv_word(frase)"
      ],
      "execution_count": null,
      "outputs": []
    },
    {
      "cell_type": "markdown",
      "metadata": {
        "id": "e9k5FgVZWhup"
      },
      "source": [
        "8) Inserir docstring é importante para que tenhamos documentação da função.\n",
        "> Caso você realize a importação dessa função para outro notebook, você terá acesso a essas informações descritas. Mas quais informações? Recomendo que conste ao menos quais são os parâmetros de entrada e de saída e qual o objetivo ou ação dessa função, desse modo quem não souber ou não lembrar poderá utilizá-la com segurança."
      ]
    },
    {
      "cell_type": "code",
      "metadata": {
        "id": "YTQ-cS8BWiMJ"
      },
      "source": [
        "import re\n",
        "\n",
        "def inv_word(string):\n",
        "  '''A função receberá uma string e terá como resultado \n",
        "  um print de outra string com as mesmas palavras que a\n",
        "  original, mas na ordem inversa e com único caractere \n",
        "  especial (ponto) ao final da string'''\n",
        "  x = re.sub(r'\\W', ' ', string)\n",
        "  x = x.split(' ')\n",
        "  x = ' '.join(x[::-1])\n",
        "  x = x.strip().lower().capitalize()\n",
        "  print(f'{x}.') \n",
        "\n",
        "\n",
        "frase = str(input('Escreva uma frase: '))\n",
        "inv_word(frase)"
      ],
      "execution_count": null,
      "outputs": []
    }
  ]
}