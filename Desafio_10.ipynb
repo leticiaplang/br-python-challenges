{
  "cells": [
    {
      "cell_type": "markdown",
      "metadata": {
        "id": "view-in-github",
        "colab_type": "text"
      },
      "source": [
        "<a href=\"https://colab.research.google.com/github/leticiaplang/br-python-challenges/blob/master/Desafio_10.ipynb\" target=\"_parent\"><img src=\"https://colab.research.google.com/assets/colab-badge.svg\" alt=\"Open In Colab\"/></a>"
      ]
    },
    {
      "cell_type": "markdown",
      "metadata": {
        "id": "a4-FLDRof6Jv"
      },
      "source": [
        "### Desafio 10\n",
        "\n",
        "Dada uma lista, divida-a em 3 partes iguais e reverta a ordem de cada lista.\n",
        "\n",
        "**Exemplo:** \n",
        "\n",
        "Entrada: \\\n",
        "sampleList = [11, 45, 8, 23, 14, 12, 78, 45, 89]\n",
        "\n",
        "Saída: \\\n",
        "Parte 1 [8, 45, 11] \\\n",
        "Parte 2 [12, 14, 23] \\\n",
        "Parte 3 [89, 45, 78] "
      ]
    },
    {
      "cell_type": "code",
      "execution_count": null,
      "metadata": {
        "id": "IJ70pUjnf6Jw"
      },
      "outputs": [],
      "source": [
        "# Seu código"
      ]
    },
    {
      "cell_type": "code",
      "execution_count": 19,
      "metadata": {
        "id": "pNrXNVqf8Wc1"
      },
      "outputs": [],
      "source": [
        "sample_list = [11, 45, 8, 23, 14, 12, 78, 45, 89]"
      ]
    },
    {
      "cell_type": "code",
      "source": [
        "def parts(list):\n",
        "  n = int(len(sample_list)/3)\n",
        "\n",
        "  part1 = sample_list[:n]\n",
        "  part1.reverse()\n",
        "  print(f'Parte 1 {part1}')\n",
        "\n",
        "  part2 = sample_list[n:2*n]\n",
        "  part2.reverse()\n",
        "  print(f'Parte 2 {part2}')\n",
        "\n",
        "  part3 = sample_list[2*n:3*n]\n",
        "  part3.reverse()\n",
        "  print(f'Parte 3 {part3}')"
      ],
      "metadata": {
        "id": "41D5SxQH1Rjr"
      },
      "execution_count": 40,
      "outputs": []
    },
    {
      "cell_type": "code",
      "source": [
        "parts(sample_list)"
      ],
      "metadata": {
        "id": "b9HmWyik4e8f",
        "outputId": "bd9ed20d-5e13-4741-d3b9-a8164c8e6699",
        "colab": {
          "base_uri": "https://localhost:8080/"
        }
      },
      "execution_count": 41,
      "outputs": [
        {
          "output_type": "stream",
          "name": "stdout",
          "text": [
            "Parte 1 [8, 45, 11]\n",
            "Parte 2 [12, 14, 23]\n",
            "Parte 3 [89, 45, 78]\n"
          ]
        }
      ]
    }
  ],
  "metadata": {
    "anaconda-cloud": {},
    "colab": {
      "name": "Desafio 10.ipynb",
      "provenance": [],
      "include_colab_link": true
    },
    "kernelspec": {
      "display_name": "Python 3",
      "language": "python",
      "name": "python3"
    },
    "language_info": {
      "codemirror_mode": {
        "name": "ipython",
        "version": 3
      },
      "file_extension": ".py",
      "mimetype": "text/x-python",
      "name": "python",
      "nbconvert_exporter": "python",
      "pygments_lexer": "ipython3",
      "version": "3.7.9"
    }
  },
  "nbformat": 4,
  "nbformat_minor": 0
}