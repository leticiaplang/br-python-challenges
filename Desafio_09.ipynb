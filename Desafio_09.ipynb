{
  "cells": [
    {
      "cell_type": "markdown",
      "metadata": {
        "id": "view-in-github",
        "colab_type": "text"
      },
      "source": [
        "<a href=\"https://colab.research.google.com/github/leticiaplang/br-python-challenges/blob/master/Desafio_09.ipynb\" target=\"_parent\"><img src=\"https://colab.research.google.com/assets/colab-badge.svg\" alt=\"Open In Colab\"/></a>"
      ]
    },
    {
      "cell_type": "markdown",
      "metadata": {
        "id": "HpvTpUBGf6Jr"
      },
      "source": [
        "### Desafio 9\n",
        "\n",
        "Escreva uma função que retorne a soma dos múltiplos de 3 e 5 entre 0 e um número limite, que vai ser utilizado como parâmetro. \\\n",
        "Por exemplo, se o limite for 20, ele retornará a soma de 3, 5, 6, 9, 10, 12, 15, 18, 20."
      ]
    },
    {
      "cell_type": "code",
      "execution_count": null,
      "metadata": {
        "id": "195C6bw-f6Js"
      },
      "outputs": [],
      "source": [
        "# Seu código"
      ]
    },
    {
      "cell_type": "code",
      "source": [
        "def soma():\n",
        "  total = int(input('escreva um número limite: '))\n",
        "  lista = [n for n in range(total+1) if n != 0 and (n % 3 == 0 or n % 5 == 0)]\n",
        "  print(f'O total da soma dos múltiplos de 3 e 5 {lista} é igual a {sum(lista)}')"
      ],
      "metadata": {
        "id": "0XpXk1SHzqPP"
      },
      "execution_count": 36,
      "outputs": []
    },
    {
      "cell_type": "code",
      "source": [
        "soma()"
      ],
      "metadata": {
        "id": "_3BhTR9_0YQx",
        "outputId": "d96030db-c34e-4550-f624-17f807432eca",
        "colab": {
          "base_uri": "https://localhost:8080/"
        }
      },
      "execution_count": 37,
      "outputs": [
        {
          "output_type": "stream",
          "name": "stdout",
          "text": [
            "escreva um número limite: 20\n",
            "O total da soma dos múltiplos de 3 e 5 [3, 5, 6, 9, 10, 12, 15, 18, 20] é igual a 98\n"
          ]
        }
      ]
    }
  ],
  "metadata": {
    "anaconda-cloud": {},
    "colab": {
      "name": "Desafio 9.ipynb",
      "provenance": [],
      "include_colab_link": true
    },
    "kernelspec": {
      "display_name": "Python 3",
      "language": "python",
      "name": "python3"
    },
    "language_info": {
      "codemirror_mode": {
        "name": "ipython",
        "version": 3
      },
      "file_extension": ".py",
      "mimetype": "text/x-python",
      "name": "python",
      "nbconvert_exporter": "python",
      "pygments_lexer": "ipython3",
      "version": "3.7.9"
    }
  },
  "nbformat": 4,
  "nbformat_minor": 0
}