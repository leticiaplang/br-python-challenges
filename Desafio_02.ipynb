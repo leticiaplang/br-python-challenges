{
  "nbformat": 4,
  "nbformat_minor": 0,
  "metadata": {
    "anaconda-cloud": {},
    "colab": {
      "name": "Desafio 2.ipynb",
      "provenance": [],
      "include_colab_link": true
    },
    "kernelspec": {
      "display_name": "Python 3",
      "language": "python",
      "name": "python3"
    },
    "language_info": {
      "codemirror_mode": {
        "name": "ipython",
        "version": 3
      },
      "file_extension": ".py",
      "mimetype": "text/x-python",
      "name": "python",
      "nbconvert_exporter": "python",
      "pygments_lexer": "ipython3",
      "version": "3.7.9"
    }
  },
  "cells": [
    {
      "cell_type": "markdown",
      "metadata": {
        "id": "view-in-github",
        "colab_type": "text"
      },
      "source": [
        "<a href=\"https://colab.research.google.com/github/leticiaplang/br-python-challenges/blob/master/Desafio_02.ipynb\" target=\"_parent\"><img src=\"https://colab.research.google.com/assets/colab-badge.svg\" alt=\"Open In Colab\"/></a>"
      ]
    },
    {
      "cell_type": "markdown",
      "metadata": {
        "id": "3dcCLEBOzlyM"
      },
      "source": [
        "![](https://i.imgur.com/YX6UATs.png)"
      ]
    },
    {
      "cell_type": "markdown",
      "metadata": {
        "id": "q1NCks7Af6JN"
      },
      "source": [
        "### Desafio 02\n",
        "\n",
        "Escreva uma função que receba um número inteiro de horas e converta esse número para segundos.\n",
        "\n",
        "Exemplo:\n",
        "\n",
        "convert(5) ➞ 18000\n",
        "\n",
        "convert(3) ➞ 10800\n",
        "\n",
        "convert(2) ➞ 7200"
      ]
    },
    {
      "cell_type": "code",
      "metadata": {
        "id": "sSm6F7sff6JO"
      },
      "source": [
        "def convert_to_sec(number):\n",
        "  print(int(number * 3600))"
      ],
      "execution_count": 7,
      "outputs": []
    },
    {
      "cell_type": "code",
      "metadata": {
        "colab": {
          "base_uri": "https://localhost:8080/"
        },
        "id": "TRJgSqW64Snl",
        "outputId": "1d3fb47e-9b01-460e-999e-04d919e8ac56"
      },
      "source": [
        "try:\n",
        "  number = float(input('Escreva um número para descobrir seu valor em segundos: '))\n",
        "  convert_to_sec(number)\n",
        "except ValueError:\n",
        "  print('Tente novamente utilizando somente números com ou sem ponto')"
      ],
      "execution_count": 8,
      "outputs": [
        {
          "output_type": "stream",
          "name": "stdout",
          "text": [
            "Escreva um número para descobrir seu valor em segundos: 5\n",
            "18000\n"
          ]
        }
      ]
    },
    {
      "cell_type": "markdown",
      "metadata": {
        "id": "dxWTlojM5zyq"
      },
      "source": [
        "### Esquema lógico para chegar ao objetivo:\n",
        "1) Definir a conversão entre as medidas\n",
        "\n",
        "2) Codar input e chamar a função\n",
        "\n",
        "3) Realizar tratamento de erros de valor de input\n",
        "\n",
        "4) Validar resultados optidos e testar com string."
      ]
    },
    {
      "cell_type": "markdown",
      "metadata": {
        "id": "ADFC9gLq8TSk"
      },
      "source": [
        "\n",
        "### Solucionando a questão\n",
        "1) Conversão 1h = 60 min = 3600 segundos.\n",
        "\n",
        "Number é o parâmetro de entrada obrigatório, o qual defini como inteiro para dar o resultado desejado pelo desafio.\n",
        "\n",
        "Já solicito dentro da função para que o valor seja impresso, uma vez que não será gravado ou reutilizado."
      ]
    },
    {
      "cell_type": "code",
      "metadata": {
        "id": "04ABNurM8YFO"
      },
      "source": [
        "def convert_to_sec(number):\n",
        "  print(int(number * 3600))"
      ],
      "execution_count": null,
      "outputs": []
    },
    {
      "cell_type": "markdown",
      "metadata": {
        "id": "C2afqqEY9IsM"
      },
      "source": [
        "2) Solicito a janela de inclusào do valor pelo cliente através do input. \n",
        "\n",
        "Determino que este input será do tipo float, para que eu possa realizar o tratamento de possíveis erros de valor.\n",
        "\n",
        "Nomeio uma variável para este código, uma vez que necessitarei referenciar esse valor posteriomente na função.\n",
        "\n",
        "Chamo a função e insiro a variável que terá o valor inserido pelo cliente para seja realizada a conversão de hora spara segundos conform item 1.\n",
        "\n",
        "Altomaticamente será impresso o valor, uma vez que já havia definido dentro da própria função no item 1."
      ]
    },
    {
      "cell_type": "code",
      "metadata": {
        "id": "FWJNaNH49Ltr"
      },
      "source": [
        "number = float(input('Escreva um número para descobrir seu valor em segundos: '))\n",
        "convert_to_sec(number)"
      ],
      "execution_count": null,
      "outputs": []
    },
    {
      "cell_type": "markdown",
      "metadata": {
        "id": "UxhGj4MZ9L0q"
      },
      "source": [
        "3) Realizo o tratamento de erros para que o sistema não tenha bug durante a execução.\n",
        "\n",
        "Utilizo dentro do try o código do item 2 e utilizo dentro do except o tipo de erro que espero que aconteça.\n",
        "\n",
        "O ValueError será acionado sempre que o valor inserido não puder ser convertido para float (números decimais), neste caso entram os strings. \n"
      ]
    },
    {
      "cell_type": "code",
      "metadata": {
        "colab": {
          "base_uri": "https://localhost:8080/"
        },
        "id": "ZmpGgykL9L7-",
        "outputId": "76d0f8f1-1de4-4ad9-9498-c884197873a3"
      },
      "source": [
        "try:\n",
        "  number = float(input('Escreva um número para descobrir seu valor em segundos: '))\n",
        "  convert_to_sec(number)\n",
        "except ValueError:\n",
        "  print('Clique e tente novamente utilizando somente números, por exemplo: 1 ou 1.5')"
      ],
      "execution_count": 9,
      "outputs": [
        {
          "output_type": "stream",
          "name": "stdout",
          "text": [
            "Escreva um número para descobrir seu valor em segundos: 5\n",
            "18000\n"
          ]
        }
      ]
    },
    {
      "cell_type": "markdown",
      "metadata": {
        "id": "Ivx0ZQwUAL8Y"
      },
      "source": [
        "4) Podemos rodar o código e testar tanto os valor 2, 3 e 5 quando os valores de string."
      ]
    },
    {
      "cell_type": "code",
      "metadata": {
        "colab": {
          "base_uri": "https://localhost:8080/"
        },
        "id": "FTDD7hyBAZJV",
        "outputId": "1931b896-a80c-4a86-9efa-77a7e7485c2e"
      },
      "source": [
        "try:\n",
        "  number = float(input('Escreva um número para descobrir seu valor em segundos: '))\n",
        "  convert_to_sec(number)\n",
        "except ValueError:\n",
        "  print('Clique e tente novamente utilizando somente números, por exemplo: 1 ou 1.5')"
      ],
      "execution_count": 10,
      "outputs": [
        {
          "output_type": "stream",
          "name": "stdout",
          "text": [
            "Escreva um número para descobrir seu valor em segundos: dbn\n",
            "Clique e tente novamente utilizando somente números, por exemplo: 1 ou 1.5\n"
          ]
        }
      ]
    },
    {
      "cell_type": "markdown",
      "metadata": {
        "id": "V5Y8-KEaAfA-"
      },
      "source": [
        "Conforme objetivo da empresa, poderíamos utilizar esse código para ter looping de número de vezes máximo desejado e poderíamos inserir esses valores e resultados em listas, dicionários ou tuplas. Não recomendaria set por não permitir valores repetidos."
      ]
    }
  ]
}