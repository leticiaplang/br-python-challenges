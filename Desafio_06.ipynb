{
  "cells": [
    {
      "cell_type": "markdown",
      "metadata": {
        "id": "view-in-github",
        "colab_type": "text"
      },
      "source": [
        "<a href=\"https://colab.research.google.com/github/leticiaplang/br-python-challenges/blob/master/Desafio_06.ipynb\" target=\"_parent\"><img src=\"https://colab.research.google.com/assets/colab-badge.svg\" alt=\"Open In Colab\"/></a>"
      ]
    },
    {
      "cell_type": "markdown",
      "metadata": {
        "id": "AiI1_KNTf6Jh"
      },
      "source": [
        "### Desafio 6\n",
        "\n",
        "Crie uma função que receba duas listas e retorne uma lista que contenha apenas os elementos comuns entre as listas (sem repetição). A função deve suportar lista de tamanhos diferentes.\n"
      ]
    },
    {
      "cell_type": "markdown",
      "metadata": {
        "id": "x2xSTJnWGWGY"
      },
      "source": [
        "**Listas**"
      ]
    },
    {
      "cell_type": "code",
      "execution_count": 2,
      "metadata": {
        "id": "5rt0HubwGWGY"
      },
      "outputs": [],
      "source": [
        "a = [1, 1, 2, 3, 5, 8, 13, 21, 34, 55, 89]\n",
        "b = [1, 2, 3, 4, 5, 6, 7, 8, 9, 10, 11, 12, 13]"
      ]
    },
    {
      "cell_type": "code",
      "execution_count": null,
      "metadata": {
        "id": "mvxpy_vCf6Jh"
      },
      "outputs": [],
      "source": [
        "# Seu código"
      ]
    },
    {
      "cell_type": "code",
      "execution_count": 1,
      "metadata": {
        "id": "ly-N_Aq624RQ"
      },
      "outputs": [],
      "source": [
        "# Para valores a e b\n",
        "def common_values(l1, l2):\n",
        "  print(f'Lista de valores utilizadas: {l1} e {l2}') \n",
        "  intersec = set(l1).intersection(set(l2))\n",
        "  if len(intersec) > 0:\n",
        "    print(f'Os valores em comum são: {list(intersec)}')\n",
        "  else:\n",
        "    print('Não há valores comuns.')"
      ]
    },
    {
      "cell_type": "code",
      "source": [
        "common_values(a, b)"
      ],
      "metadata": {
        "id": "VOVBR72UGdxX",
        "outputId": "8ce5fb34-ec5e-4988-ddb0-4388f4f195d6",
        "colab": {
          "base_uri": "https://localhost:8080/"
        }
      },
      "execution_count": 3,
      "outputs": [
        {
          "output_type": "stream",
          "name": "stdout",
          "text": [
            "Lista de valores utilizadas: [1, 1, 2, 3, 5, 8, 13, 21, 34, 55, 89] e [1, 2, 3, 4, 5, 6, 7, 8, 9, 10, 11, 12, 13]\n",
            "Os valores em comum são: [1, 2, 3, 5, 8, 13]\n"
          ]
        }
      ]
    },
    {
      "cell_type": "code",
      "source": [
        "# Para valores a serem recebidos pelo usuário. \n",
        "## Poderia ser tratado para entrada apenas de números com try + except e float()\n",
        "def common_values_input():\n",
        "  l1 = input('Primeira lista de números separados por vírgula: ').split(',')\n",
        "  l2 = input('Segunda lista de números separados por vírgula: ').split(',')\n",
        "  l1 = [n.strip() for n in l1]\n",
        "  l2 = [n.strip() for n in l2]\n",
        "  intersec = set(l1).intersection(set(l2))\n",
        "  if len(intersec) > 0:\n",
        "    print(f'Os valores em comum são: {list(intersec)}')\n",
        "  else:\n",
        "    print('Não há valores comuns.')"
      ],
      "metadata": {
        "id": "mVhVEwvQGiIj"
      },
      "execution_count": 4,
      "outputs": []
    },
    {
      "cell_type": "code",
      "source": [
        "common_values_input()"
      ],
      "metadata": {
        "id": "ENH_RH5sGkjw",
        "outputId": "de85fa93-d28c-48db-eaaf-1556ea6b6687",
        "colab": {
          "base_uri": "https://localhost:8080/"
        }
      },
      "execution_count": 5,
      "outputs": [
        {
          "output_type": "stream",
          "name": "stdout",
          "text": [
            "Primeira lista de números separados por vírgula: 1, 1, 2, 3, 5, 8, 13, 21, 34, 55, 89\n",
            "Segunda lista de números separados por vírgula: 1, 2, 3, 4, 5, 6, 7, 8, 9, 10, 11, 12, 13\n",
            "Os valores em comum são: ['5', '3', '13', '8', '2', '1']\n"
          ]
        }
      ]
    }
  ],
  "metadata": {
    "anaconda-cloud": {},
    "colab": {
      "name": "Desafio 6.ipynb",
      "provenance": [],
      "include_colab_link": true
    },
    "kernelspec": {
      "display_name": "Python 3",
      "language": "python",
      "name": "python3"
    },
    "language_info": {
      "codemirror_mode": {
        "name": "ipython",
        "version": 3
      },
      "file_extension": ".py",
      "mimetype": "text/x-python",
      "name": "python",
      "nbconvert_exporter": "python",
      "pygments_lexer": "ipython3",
      "version": "3.7.9"
    }
  },
  "nbformat": 4,
  "nbformat_minor": 0
}