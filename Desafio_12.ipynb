{
  "cells": [
    {
      "cell_type": "markdown",
      "metadata": {
        "id": "view-in-github",
        "colab_type": "text"
      },
      "source": [
        "<a href=\"https://colab.research.google.com/github/leticiaplang/br-python-challenges/blob/master/Desafio_12.ipynb\" target=\"_parent\"><img src=\"https://colab.research.google.com/assets/colab-badge.svg\" alt=\"Open In Colab\"/></a>"
      ]
    },
    {
      "cell_type": "markdown",
      "metadata": {
        "id": "AYHY2YXQf6J2"
      },
      "source": [
        "### Desafio 12\n",
        "\n",
        "Escreva uma função em Python para verificar a validade de uma senha.\n",
        "\n",
        "A senha deve ter:\n",
        "\n",
        "* Pelo menos 1 letra entre [a-z] e 1 letra entre [A-Z].\n",
        "* Pelo menos 1 número entre [0-9].\n",
        "* Pelo menos 1 caractere de [$ # @].\n",
        "* Comprimento mínimo de 6 caracteres.\n",
        "* Comprimento máximo de 16 caracteres.\n",
        "\n",
        "Entradas: \"12345678\", \"J3sus0\", \"#Te5t300\", \"J*90j12374\", \"Michheeul\", \"Monk3y6\"\n",
        "\n",
        "A saída deve ser a senha e um texto indicando se a senha é válida ou inválida:\n",
        "\n",
        "```\n",
        "\"1234\" - Senha inválida\n",
        "\"Qw#1234\" - Senha válida\n",
        "```"
      ]
    },
    {
      "cell_type": "code",
      "source": [
        "import re"
      ],
      "metadata": {
        "id": "NcHR21d2P5K6"
      },
      "execution_count": 1,
      "outputs": []
    },
    {
      "cell_type": "code",
      "source": [
        "passwords = [\"12345678\", \"J3sus0\", \"#Te5t300\", \"J*90j12374\", \"Michheeul\", \"Monk3y6\"]"
      ],
      "metadata": {
        "id": "veV9YUDpNtET"
      },
      "execution_count": 2,
      "outputs": []
    },
    {
      "cell_type": "code",
      "execution_count": 9,
      "metadata": {
        "id": "UGgtGYGGf6J3"
      },
      "outputs": [],
      "source": [
        "# Seu código\n",
        "def password(list):\n",
        "\n",
        "  for passw in passwords:\n",
        "  \n",
        "    # Variáveis para senha correta\n",
        "    lentgh = len(passw) < 6 or len(passw) > 16 \n",
        "    lett_up = re.search(r'[A-Z]', passw) is not None \n",
        "    lett_low = re.search(r'[a-z]', passw) is not None \n",
        "    num = re.search(r'[0-9]', passw) is not None \n",
        "    spec_caract = re.search(r'[$#@]', passw) is not None\n",
        "  \n",
        "  # Loop for para classificação\n",
        "    if lentgh and lett_up and lett_low and num and spec_caract:\n",
        "        print(f' {passw} - Senha válida')\n",
        "    else:\n",
        "      print(f' {passw} - Senha inválida')"
      ]
    },
    {
      "cell_type": "code",
      "source": [
        "password(passwords)"
      ],
      "metadata": {
        "id": "nCFOmbqVcBgN",
        "outputId": "4d392772-d511-486a-8cdc-57804182c21c",
        "colab": {
          "base_uri": "https://localhost:8080/"
        }
      },
      "execution_count": 10,
      "outputs": [
        {
          "output_type": "stream",
          "name": "stdout",
          "text": [
            " 12345678 - Senha inválida\n",
            " J3sus0 - Senha inválida\n",
            " #Te5t300 - Senha inválida\n",
            " J*90j12374 - Senha inválida\n",
            " Michheeul - Senha inválida\n",
            " Monk3y6 - Senha inválida\n"
          ]
        }
      ]
    }
  ],
  "metadata": {
    "anaconda-cloud": {},
    "colab": {
      "name": "Desafio 12.ipynb",
      "provenance": [],
      "include_colab_link": true
    },
    "kernelspec": {
      "display_name": "Python 3",
      "language": "python",
      "name": "python3"
    },
    "language_info": {
      "codemirror_mode": {
        "name": "ipython",
        "version": 3
      },
      "file_extension": ".py",
      "mimetype": "text/x-python",
      "name": "python",
      "nbconvert_exporter": "python",
      "pygments_lexer": "ipython3",
      "version": "3.7.9"
    }
  },
  "nbformat": 4,
  "nbformat_minor": 0
}