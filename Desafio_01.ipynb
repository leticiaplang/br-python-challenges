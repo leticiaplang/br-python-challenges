{
  "nbformat": 4,
  "nbformat_minor": 0,
  "metadata": {
    "anaconda-cloud": {},
    "colab": {
      "name": "Desafio 1.ipynb",
      "provenance": [],
      "include_colab_link": true
    },
    "kernelspec": {
      "display_name": "Python 3",
      "language": "python",
      "name": "python3"
    },
    "language_info": {
      "codemirror_mode": {
        "name": "ipython",
        "version": 3
      },
      "file_extension": ".py",
      "mimetype": "text/x-python",
      "name": "python",
      "nbconvert_exporter": "python",
      "pygments_lexer": "ipython3",
      "version": "3.7.9"
    }
  },
  "cells": [
    {
      "cell_type": "markdown",
      "metadata": {
        "id": "view-in-github",
        "colab_type": "text"
      },
      "source": [
        "<a href=\"https://colab.research.google.com/github/leticiaplang/br-python-challenges/blob/master/Desafio_01.ipynb\" target=\"_parent\"><img src=\"https://colab.research.google.com/assets/colab-badge.svg\" alt=\"Open In Colab\"/></a>"
      ]
    },
    {
      "cell_type": "markdown",
      "metadata": {
        "id": "SbLLE9q1eldC"
      },
      "source": [
        "### Desafio 1\n",
        "\n",
        "Escreva um programa em Python para contabilizar a quantidade de ocorrências de cada palavra."
      ]
    },
    {
      "cell_type": "code",
      "metadata": {
        "colab": {
          "base_uri": "https://localhost:8080/"
        },
        "id": "WhtbdwFseldD",
        "outputId": "35c5be4c-fbd1-418a-bd48-e8ab37865842"
      },
      "source": [
        "palavras = [\n",
        "   'red', 'green', 'black', 'pink', 'black', 'white', 'black', 'eyes',\n",
        "   'white', 'black', 'orange', 'pink', 'pink', 'red', 'red', 'white', 'orange',\n",
        "   'white', \"black\", 'pink', 'green', 'green', 'pink', 'green', 'pink',\n",
        "   'white', 'orange', \"orange\", 'red'\n",
        "]\n",
        "\n",
        "# Seu código\n",
        "\n",
        "set_word = set(palavras)\n",
        "\n",
        "for item in set_word:\n",
        "  print(f'{item} possui frequência igual a {palavras.count(item)}')"
      ],
      "execution_count": 10,
      "outputs": [
        {
          "output_type": "stream",
          "name": "stdout",
          "text": [
            "white possui frequência igual a 5\n",
            "green possui frequência igual a 4\n",
            "pink possui frequência igual a 6\n",
            "eyes possui frequência igual a 1\n",
            "black possui frequência igual a 5\n",
            "red possui frequência igual a 4\n",
            "orange possui frequência igual a 4\n"
          ]
        }
      ]
    },
    {
      "cell_type": "markdown",
      "metadata": {
        "id": "-pNqEyZNwxOg"
      },
      "source": [
        "### Esquema lógico para chegar ao objetivo:\n",
        "\n",
        "1) Definir os valores distintos/únicos\n",
        "\n",
        "2) Realizar uma varreadura que permita realizar a contagem de cada item distinto na lista 'palavras'\n",
        "\n",
        "3) Imprimir cada item e sua frequência por linha\n",
        "\n",
        "4) Verificar se os dados estão corretos."
      ]
    },
    {
      "cell_type": "markdown",
      "metadata": {
        "id": "hLZvg_s2wxa3"
      },
      "source": [
        "### Solucionando a questão\n",
        "\n",
        "1) O set não permite valores duplicados, logo teremos os valores distintos da lista ''palavras'. \n",
        "\n",
        "Como não necesistarei utilizar índices ou modificar os dados, não há necessidade de transformá-lo em lista novamente."
      ]
    },
    {
      "cell_type": "code",
      "metadata": {
        "id": "cRmNUwPkw5q-",
        "outputId": "3ad263cc-633e-4b2a-8e3d-30124da4b6d6",
        "colab": {
          "base_uri": "https://localhost:8080/"
        }
      },
      "source": [
        "set_word = set(palavras)\n",
        "print(set_word)"
      ],
      "execution_count": 3,
      "outputs": [
        {
          "output_type": "stream",
          "name": "stdout",
          "text": [
            "{'white', 'green', 'pink', 'eyes', 'black', 'red', 'orange'}\n"
          ]
        }
      ]
    },
    {
      "cell_type": "markdown",
      "metadata": {
        "id": "zhJNtk2Uw51j"
      },
      "source": [
        "2) Para realizar a varredura de cada item podemos utizar um list comprehension.\n",
        "\n",
        "Será realizada a leitura de cada item distinto da lista 'set_word' para depois realizar o count de cada item na lista 'palavras'."
      ]
    },
    {
      "cell_type": "code",
      "metadata": {
        "id": "uO28hL7bw5-4",
        "outputId": "9f09ba0f-4c6b-49a1-d9b3-a720fcf82c36",
        "colab": {
          "base_uri": "https://localhost:8080/"
        }
      },
      "source": [
        "freq_word = [palavras.count(item) for item in set_word]\n",
        "print(freq_word)"
      ],
      "execution_count": 6,
      "outputs": [
        {
          "output_type": "stream",
          "name": "stdout",
          "text": [
            "[5, 4, 6, 1, 5, 4, 4]\n"
          ]
        }
      ]
    },
    {
      "cell_type": "markdown",
      "metadata": {
        "id": "Rsq4hllXw6H1"
      },
      "source": [
        "3) Para conseguir realizar a impressão personalizada dos resultados, utilizei a fórmula do item 2 de modo que após a leitura de cada item distinto da lista 'set_word', fosse realizada a contagem na lista 'palavras' e imprimisse o resultado encontrado conform o f' abaixo."
      ]
    },
    {
      "cell_type": "code",
      "metadata": {
        "id": "u0qxp_7Yw6PO",
        "outputId": "46eceeca-844f-4c8d-d262-49921dc1a99f",
        "colab": {
          "base_uri": "https://localhost:8080/"
        }
      },
      "source": [
        "for item in set_word:\n",
        "  print(f'{item} possui frequência igual a {palavras.count(item)}')"
      ],
      "execution_count": 4,
      "outputs": [
        {
          "output_type": "stream",
          "name": "stdout",
          "text": [
            "white possui frequência igual a 5\n",
            "green possui frequência igual a 4\n",
            "pink possui frequência igual a 6\n",
            "eyes possui frequência igual a 1\n",
            "black possui frequência igual a 5\n",
            "red possui frequência igual a 4\n",
            "orange possui frequência igual a 4\n"
          ]
        }
      ]
    },
    {
      "cell_type": "markdown",
      "metadata": {
        "id": "B0E3ekogw6Wb"
      },
      "source": [
        "4) Para realizar a prova real, verifico a contagem dos itens da lista 'palavras' com a soma dos itens da freq_word'."
      ]
    },
    {
      "cell_type": "code",
      "metadata": {
        "id": "cV9Y6sjrw6dh",
        "outputId": "131d4f79-03eb-441a-ee7f-a79ca0ff03f0",
        "colab": {
          "base_uri": "https://localhost:8080/"
        }
      },
      "source": [
        "len(palavras) == sum(freq_word)"
      ],
      "execution_count": 7,
      "outputs": [
        {
          "output_type": "execute_result",
          "data": {
            "text/plain": [
              "True"
            ]
          },
          "metadata": {},
          "execution_count": 7
        }
      ]
    },
    {
      "cell_type": "markdown",
      "metadata": {
        "id": "QV_dFEljw6mW"
      },
      "source": [
        "Pode-se também realizar a verificação da frequência de determino valor dentro da lista 'palavras' e verificar com os resultados printados no item 3. "
      ]
    },
    {
      "cell_type": "code",
      "metadata": {
        "id": "nsz6hJBPw6sX",
        "outputId": "32c9793e-47fc-49ff-aa76-19413c4c1cd4",
        "colab": {
          "base_uri": "https://localhost:8080/"
        }
      },
      "source": [
        "palavras.count('black') "
      ],
      "execution_count": 8,
      "outputs": [
        {
          "output_type": "execute_result",
          "data": {
            "text/plain": [
              "5"
            ]
          },
          "metadata": {},
          "execution_count": 8
        }
      ]
    },
    {
      "cell_type": "markdown",
      "metadata": {
        "id": "xywR8lpww61Y"
      },
      "source": [
        "Se fosse necessária realizar a busca desses dados frequentemente, sugeriria a utilização de dicionário para podermos salvá-los, atualizá-los e buscarmos com mais rapidez."
      ]
    }
  ]
}