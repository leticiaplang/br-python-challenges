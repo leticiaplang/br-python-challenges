{
  "nbformat": 4,
  "nbformat_minor": 0,
  "metadata": {
    "anaconda-cloud": {},
    "colab": {
      "name": "Desafio 3.ipynb",
      "provenance": [],
      "include_colab_link": true
    },
    "kernelspec": {
      "display_name": "Python 3",
      "language": "python",
      "name": "python3"
    },
    "language_info": {
      "codemirror_mode": {
        "name": "ipython",
        "version": 3
      },
      "file_extension": ".py",
      "mimetype": "text/x-python",
      "name": "python",
      "nbconvert_exporter": "python",
      "pygments_lexer": "ipython3",
      "version": "3.7.9"
    }
  },
  "cells": [
    {
      "cell_type": "markdown",
      "metadata": {
        "id": "view-in-github",
        "colab_type": "text"
      },
      "source": [
        "<a href=\"https://colab.research.google.com/github/leticiaplang/br-python-challenges/blob/master/Desafio_03.ipynb\" target=\"_parent\"><img src=\"https://colab.research.google.com/assets/colab-badge.svg\" alt=\"Open In Colab\"/></a>"
      ]
    },
    {
      "cell_type": "markdown",
      "metadata": {
        "id": "9apVxxygf6JR"
      },
      "source": [
        "### Desafio 03\n",
        "\n",
        "Escreva uma função que receba uma lista como entrada e retorne uma nova lista ordenada e sem valores duplicados.\n"
      ]
    },
    {
      "cell_type": "code",
      "metadata": {
        "colab": {
          "base_uri": "https://localhost:8080/"
        },
        "id": "ndTkQEUBf6JS",
        "outputId": "5a88a2d5-bf7f-4a38-c580-a668006a3eb4"
      },
      "source": [
        "lista = [1,2,3,4,3,30,3,4,5,6,9,3,2,1,2,4,5,15,6,6,3,13,4,45,5]\n",
        "\n",
        "# Seu código\n",
        "def ord_uniq(x):\n",
        "  x = set(x)\n",
        "  print(sorted(x))\n",
        "\n",
        "ord_uniq(lista)"
      ],
      "execution_count": 31,
      "outputs": [
        {
          "output_type": "stream",
          "name": "stdout",
          "text": [
            "[1, 2, 3, 4, 5, 6, 9, 13, 15, 30, 45]\n"
          ]
        }
      ]
    },
    {
      "cell_type": "markdown",
      "metadata": {
        "id": "FZI6E3kNIm9X"
      },
      "source": [
        "### Esquema lógico para chegar ao objetivo:\n",
        "\n",
        "1) Inserir estrutura de uma função\n",
        "\n",
        "2) Retirar valores duplicados\n",
        "\n",
        "3) Imprimir valor distintos em ordem crescente\n",
        "\n",
        "4) Garantir resultado confiável\n",
        "\n",
        "\n",
        "\n"
      ]
    },
    {
      "cell_type": "markdown",
      "metadata": {
        "id": "sFRFL-asNGjm"
      },
      "source": [
        "\n",
        "### Solucionando a questão:\n",
        "\n",
        "1) Toda função inicia com def + nome_função\n",
        "\n",
        "> Podemos ou não inserir parâmetros de entrada, neste caso insire um sem desfault (x)\n",
        "\n",
        "> Após é obrigatório o uso de dois pontos (:) para indentarmos o que constituirá a função, ou seja, o que será realizado na função e qual o retorno dela quando chamada."
      ]
    },
    {
      "cell_type": "code",
      "metadata": {
        "id": "wo2rA-NriFtO"
      },
      "source": [
        "def ord_uniq(x):\n"
      ],
      "execution_count": 29,
      "outputs": []
    },
    {
      "cell_type": "markdown",
      "metadata": {
        "id": "n54O9tTMKcqA"
      },
      "source": [
        "2 e 3 -> Para retirar os valores duplicados, utilizo o set() com o parâmetro de entrada (x).\n",
        "> O set é um tipo de coleção que não permite o uso de valores duplicados.\n",
        "\n",
        "Determino uma variável para essa ação, uma vez que irei chamá-la logo mais dentro da função. Nesse caso utilizei o próprio x, pois não necessitarei utilizar novamente a lista original dentro da função.\n",
        "\n",
        "Após, chamo a variável x, que contém os valores distintos agora, e utilizo a função sorted() para ordenar em ordem crescente os valores de x (valores distintos) e print() para imprimir o valor para o cliente.\n"
      ]
    },
    {
      "cell_type": "code",
      "metadata": {
        "id": "7rOhl78vKc6V"
      },
      "source": [
        "  x = set(x)\n",
        "  print(sorted(x))"
      ],
      "execution_count": null,
      "outputs": []
    },
    {
      "cell_type": "markdown",
      "metadata": {
        "id": "BJzwBNP_KdEZ"
      },
      "source": [
        "4) Definida a função, precisamos rodar o código (play) e depois chamar a função com a lista deseja dentro do parâmetro de entrada. \n",
        "\n",
        "Podemos verificar visualmente os valores únicos da lista original e, se quiser, comparar o total de itens da lista original com a soma das frequências de cada item.\n",
        "> vide exemplo no desafio 01."
      ]
    },
    {
      "cell_type": "code",
      "metadata": {
        "id": "pipnOPR0HHkC",
        "outputId": "095c5f02-9cef-4b8c-ef5a-6a92b2c674cc",
        "colab": {
          "base_uri": "https://localhost:8080/"
        }
      },
      "source": [
        "ord_uniq(lista)"
      ],
      "execution_count": 30,
      "outputs": [
        {
          "output_type": "stream",
          "name": "stdout",
          "text": [
            "[1, 2, 3, 4, 5, 6, 9, 13, 15, 30, 45]\n"
          ]
        }
      ]
    }
  ]
}